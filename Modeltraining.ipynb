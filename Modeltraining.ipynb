{
  "nbformat": 4,
  "nbformat_minor": 0,
  "metadata": {
    "colab": {
      "provenance": [],
      "authorship_tag": "ABX9TyPq7ryenqJtPsKTY7003ebq",
      "include_colab_link": true
    },
    "kernelspec": {
      "name": "python3",
      "display_name": "Python 3"
    },
    "language_info": {
      "name": "python"
    }
  },
  "cells": [
    {
      "cell_type": "markdown",
      "metadata": {
        "id": "view-in-github",
        "colab_type": "text"
      },
      "source": [
        "<a href=\"https://colab.research.google.com/github/laibw/Handwriting-recognition/blob/main/Modeltraining.ipynb\" target=\"_parent\"><img src=\"https://colab.research.google.com/assets/colab-badge.svg\" alt=\"Open In Colab\"/></a>"
      ]
    },
    {
      "cell_type": "code",
      "execution_count": 1,
      "metadata": {
        "id": "x3uceaUxpiZ7"
      },
      "outputs": [],
      "source": [
        "import numpy as np\n",
        "import pandas as pd\n",
        "import tensorflow as tf\n",
        "from sklearn.model_selection import train_test_split\n",
        "from sklearn.metrics import accuracy_score\n",
        "import os\n",
        "from tensorflow import keras\n",
        "from tensorflow.keras.layers import Dense\n",
        "from tensorflow.keras.losses import CategoricalCrossentropy\n",
        "from sys import getsizeof\n",
        "from google.colab import files\n",
        "from google.colab import drive\n"
      ]
    },
    {
      "cell_type": "code",
      "source": [
        "output_labels = ['A','B','C','D','E','F','G','H','I','J','K','L','M','N','O','P','Q','R','S','T','U','V','W','X','Y','Z']"
      ],
      "metadata": {
        "id": "PXaXQOsx205C"
      },
      "execution_count": 2,
      "outputs": []
    },
    {
      "cell_type": "code",
      "source": [
        "def get_file_size(file_path):\n",
        "  return os.path.getsize(file_path)"
      ],
      "metadata": {
        "id": "z6uLbc3vq2BO"
      },
      "execution_count": 3,
      "outputs": []
    },
    {
      "cell_type": "code",
      "source": [
        "drive.mount('/content/drive')"
      ],
      "metadata": {
        "id": "OaDD2U08xT6S",
        "colab": {
          "base_uri": "https://localhost:8080/"
        },
        "outputId": "42f8d98b-98d8-449d-b28d-42a64b451964",
        "collapsed": true
      },
      "execution_count": 4,
      "outputs": [
        {
          "output_type": "stream",
          "name": "stdout",
          "text": [
            "Mounted at /content/drive\n"
          ]
        }
      ]
    },
    {
      "cell_type": "code",
      "source": [
        "data_path = '/content/drive/MyDrive/handwritten_data_785.csv'\n",
        "df = pd.read_csv(data_path)\n",
        "df.shape"
      ],
      "metadata": {
        "colab": {
          "base_uri": "https://localhost:8080/"
        },
        "id": "7Busnwa7g38X",
        "outputId": "922532e2-c564-40e9-c817-961489da9a44"
      },
      "execution_count": 5,
      "outputs": [
        {
          "output_type": "execute_result",
          "data": {
            "text/plain": [
              "(372037, 785)"
            ]
          },
          "metadata": {},
          "execution_count": 5
        }
      ]
    },
    {
      "cell_type": "code",
      "source": [
        "features = df.values[:,1:]\n",
        "labels = df.values[:,0]"
      ],
      "metadata": {
        "id": "iHt42ZZikY3r"
      },
      "execution_count": 6,
      "outputs": []
    },
    {
      "cell_type": "code",
      "source": [
        "features = features / 255.\n",
        "features=np.ceil(features)\n",
        "labels=keras.utils.to_categorical(labels)"
      ],
      "metadata": {
        "id": "ahbhaB_lks7N"
      },
      "execution_count": 7,
      "outputs": []
    },
    {
      "cell_type": "code",
      "source": [
        "x_train, x_test, y_train, y_test = train_test_split(features, labels, test_size=0.25, random_state=42)"
      ],
      "metadata": {
        "id": "LWPX2p4pkywC"
      },
      "execution_count": 8,
      "outputs": []
    },
    {
      "cell_type": "code",
      "source": [
        "print(x_train.shape)\n",
        "print(x_test.shape)\n",
        "print(y_train.shape)\n",
        "print(y_test.shape)"
      ],
      "metadata": {
        "colab": {
          "base_uri": "https://localhost:8080/"
        },
        "id": "cQ7486gqtESC",
        "outputId": "28b67c21-d000-4aaf-8f97-e6110680f48f"
      },
      "execution_count": 9,
      "outputs": [
        {
          "output_type": "stream",
          "name": "stdout",
          "text": [
            "(279027, 784)\n",
            "(93010, 784)\n",
            "(279027, 26)\n",
            "(93010, 26)\n"
          ]
        }
      ]
    },
    {
      "cell_type": "code",
      "source": [
        "model=keras.Sequential([\n",
        "    Dense(128,activation='relu',input_shape=(784,)),\n",
        "    Dense(26)\n",
        "])"
      ],
      "metadata": {
        "id": "ZYFBgaZXwQmW"
      },
      "execution_count": 10,
      "outputs": []
    },
    {
      "cell_type": "code",
      "source": [
        "model.summary()"
      ],
      "metadata": {
        "colab": {
          "base_uri": "https://localhost:8080/"
        },
        "id": "aT7gaMK9xBeK",
        "outputId": "9a3da351-a0f9-4c49-a2d0-41a38749f7d0"
      },
      "execution_count": 11,
      "outputs": [
        {
          "output_type": "stream",
          "name": "stdout",
          "text": [
            "Model: \"sequential\"\n",
            "_________________________________________________________________\n",
            " Layer (type)                Output Shape              Param #   \n",
            "=================================================================\n",
            " dense (Dense)               (None, 128)               100480    \n",
            "                                                                 \n",
            " dense_1 (Dense)             (None, 26)                3354      \n",
            "                                                                 \n",
            "=================================================================\n",
            "Total params: 103834 (405.60 KB)\n",
            "Trainable params: 103834 (405.60 KB)\n",
            "Non-trainable params: 0 (0.00 Byte)\n",
            "_________________________________________________________________\n"
          ]
        }
      ]
    },
    {
      "cell_type": "code",
      "source": [
        "model.compile(optimizer='adam',\n",
        "              loss=CategoricalCrossentropy(from_logits=True),\n",
        "              metrics=['accuracy'])"
      ],
      "metadata": {
        "id": "Ztlk9FKlxQR_"
      },
      "execution_count": 12,
      "outputs": []
    },
    {
      "cell_type": "code",
      "source": [
        "del df\n",
        "del features\n",
        "del labels"
      ],
      "metadata": {
        "id": "vPTi4PAx8XSJ"
      },
      "execution_count": 13,
      "outputs": []
    },
    {
      "cell_type": "code",
      "source": [
        "model.fit(x_train,y_train,epochs=10)"
      ],
      "metadata": {
        "colab": {
          "base_uri": "https://localhost:8080/"
        },
        "id": "hQxbpanIxvXv",
        "outputId": "3d38557b-2a34-4d0d-d13f-2aaedeee9421"
      },
      "execution_count": 14,
      "outputs": [
        {
          "output_type": "stream",
          "name": "stdout",
          "text": [
            "Epoch 1/10\n",
            "8720/8720 [==============================] - 38s 4ms/step - loss: 0.3390 - accuracy: 0.9050\n",
            "Epoch 2/10\n",
            "8720/8720 [==============================] - 35s 4ms/step - loss: 0.1838 - accuracy: 0.9480\n",
            "Epoch 3/10\n",
            "8720/8720 [==============================] - 38s 4ms/step - loss: 0.1527 - accuracy: 0.9568\n",
            "Epoch 4/10\n",
            "8720/8720 [==============================] - 35s 4ms/step - loss: 0.1338 - accuracy: 0.9619\n",
            "Epoch 5/10\n",
            "8720/8720 [==============================] - 46s 5ms/step - loss: 0.1206 - accuracy: 0.9650\n",
            "Epoch 6/10\n",
            "8720/8720 [==============================] - 36s 4ms/step - loss: 0.1105 - accuracy: 0.9677\n",
            "Epoch 7/10\n",
            "8720/8720 [==============================] - 36s 4ms/step - loss: 0.1023 - accuracy: 0.9701\n",
            "Epoch 8/10\n",
            "8720/8720 [==============================] - 37s 4ms/step - loss: 0.0953 - accuracy: 0.9719\n",
            "Epoch 9/10\n",
            "8720/8720 [==============================] - 36s 4ms/step - loss: 0.0893 - accuracy: 0.9733\n",
            "Epoch 10/10\n",
            "8720/8720 [==============================] - 35s 4ms/step - loss: 0.0847 - accuracy: 0.9744\n"
          ]
        },
        {
          "output_type": "execute_result",
          "data": {
            "text/plain": [
              "<keras.src.callbacks.History at 0x7d9d77a52770>"
            ]
          },
          "metadata": {},
          "execution_count": 14
        }
      ]
    },
    {
      "cell_type": "code",
      "source": [
        "test_loss,test_accuracy = model.evaluate(x_test,y_test, verbose=2)\n",
        "print(\"Accuracy:\",format(round(100*test_accuracy,2)))"
      ],
      "metadata": {
        "colab": {
          "base_uri": "https://localhost:8080/"
        },
        "id": "Ypcfyqmcivne",
        "outputId": "7013b0b5-be86-4224-a65f-1d8e7c9fc918"
      },
      "execution_count": 15,
      "outputs": [
        {
          "output_type": "stream",
          "name": "stdout",
          "text": [
            "2907/2907 - 5s - loss: 0.1415 - accuracy: 0.9643 - 5s/epoch - 2ms/step\n",
            "Accuracy: 96.43\n"
          ]
        }
      ]
    },
    {
      "cell_type": "code",
      "source": [
        "model_name='tf_model_AZ_handwriting.keras'\n",
        "model.save(model_name)"
      ],
      "metadata": {
        "id": "CVo5Xfr2j1Y6"
      },
      "execution_count": 16,
      "outputs": []
    },
    {
      "cell_type": "code",
      "source": [
        "print(get_file_size(model_name))"
      ],
      "metadata": {
        "colab": {
          "base_uri": "https://localhost:8080/"
        },
        "id": "97mnB7rTrvtG",
        "outputId": "55777046-9729-4fe5-ee69-64f2866a9fa0"
      },
      "execution_count": 17,
      "outputs": [
        {
          "output_type": "stream",
          "name": "stdout",
          "text": [
            "1267810\n"
          ]
        }
      ]
    },
    {
      "cell_type": "code",
      "source": [
        "test_image=x_test[0:10]\n",
        "test_label=y_test[0:10]\n",
        "classes_y=np.argmax(test_label,axis=1)\n",
        "predictions=model.predict(test_image)\n",
        "classes_x=np.argmax(predictions,axis=1)\n",
        "print('Actual classes: ',end=\"\")\n",
        "for q in classes_y:\n",
        "  print(output_labels[q],end=\" \")\n",
        "print('\\nPredicted classes: ',end=\"\")\n",
        "for p in classes_x:\n",
        "    print(output_labels[p],end=\" \")"
      ],
      "metadata": {
        "colab": {
          "base_uri": "https://localhost:8080/"
        },
        "id": "NtMMi14axIfx",
        "outputId": "c7965a6d-d424-46d5-8773-d94105b145fe"
      },
      "execution_count": 18,
      "outputs": [
        {
          "output_type": "stream",
          "name": "stdout",
          "text": [
            "1/1 [==============================] - 0s 88ms/step\n",
            "Actual classes: J R O N Z T P O U S \n",
            "Predicted classes: J R O N Z T P O U S "
          ]
        }
      ]
    },
    {
      "cell_type": "code",
      "source": [
        "tflite_model_name=\"tf_lite_model_AZ_handwriting.tflite\"\n",
        "tf_lite_converter=tf.lite.TFLiteConverter.from_keras_model(model)\n",
        "tf_lite_converter.optimizations = [tf.lite.Optimize.DEFAULT]\n",
        "def representative_dataset_generator():\n",
        "  for value in x_test:\n",
        "  # Each scalar value must be inside of a 2D array that is wrapped in a list\n",
        "    yield [np.array(value, dtype=np.float32, ndmin=2)]\n",
        "tf_lite_converter.representative_dataset = representative_dataset_generator\n",
        "tflite_model=tf_lite_converter.convert()"
      ],
      "metadata": {
        "id": "JF_gEHKCAlsl",
        "colab": {
          "base_uri": "https://localhost:8080/"
        },
        "outputId": "c9166386-80ab-43b3-fa43-51f5784efbca"
      },
      "execution_count": 19,
      "outputs": [
        {
          "output_type": "stream",
          "name": "stderr",
          "text": [
            "/usr/local/lib/python3.10/dist-packages/tensorflow/lite/python/convert.py:953: UserWarning: Statistics for quantized inputs were expected, but not specified; continuing anyway.\n",
            "  warnings.warn(\n"
          ]
        }
      ]
    },
    {
      "cell_type": "code",
      "source": [
        "open(tflite_model_name,\"wb\").write(tflite_model)"
      ],
      "metadata": {
        "colab": {
          "base_uri": "https://localhost:8080/"
        },
        "id": "8NuxQ3DYBNMU",
        "outputId": "6bbaa9cb-035d-46df-ece3-1f2947dfb97d"
      },
      "execution_count": 20,
      "outputs": [
        {
          "output_type": "execute_result",
          "data": {
            "text/plain": [
              "106384"
            ]
          },
          "metadata": {},
          "execution_count": 20
        }
      ]
    },
    {
      "cell_type": "code",
      "source": [
        "interpreter=tf.lite.Interpreter(model_path=tflite_model_name)"
      ],
      "metadata": {
        "id": "ffeNQlfbDSfK"
      },
      "execution_count": 21,
      "outputs": []
    },
    {
      "cell_type": "code",
      "source": [
        "input_details=interpreter.get_input_details()\n",
        "output_details=interpreter.get_output_details()\n",
        "print(input_details[0]['shape'])\n",
        "print(input_details[0]['dtype'])\n",
        "print(output_details[0]['shape'])\n",
        "print(output_details[0]['dtype'])"
      ],
      "metadata": {
        "colab": {
          "base_uri": "https://localhost:8080/"
        },
        "id": "iD7AaVYyFB8J",
        "outputId": "8531a218-fb9c-4f29-c102-5ca34aadf16d"
      },
      "execution_count": 22,
      "outputs": [
        {
          "output_type": "stream",
          "name": "stdout",
          "text": [
            "[  1 784]\n",
            "<class 'numpy.float32'>\n",
            "[ 1 26]\n",
            "<class 'numpy.float32'>\n"
          ]
        }
      ]
    },
    {
      "cell_type": "code",
      "source": [
        "interpreter.resize_tensor_input(input_details[0]['index'],(93010,784))\n",
        "interpreter.resize_tensor_input(output_details[0]['index'],(93010,26))\n",
        "interpreter.allocate_tensors()\n",
        "input_details=interpreter.get_input_details()\n",
        "output_details=interpreter.get_output_details()\n",
        "print(input_details[0]['shape'])\n",
        "print(input_details[0]['dtype'])\n",
        "print(output_details[0]['shape'])\n",
        "print(output_details[0]['dtype'])"
      ],
      "metadata": {
        "colab": {
          "base_uri": "https://localhost:8080/"
        },
        "id": "XTrpVuCVF5va",
        "outputId": "b7438ec0-04b0-4883-de9e-feda6e24dde2"
      },
      "execution_count": 23,
      "outputs": [
        {
          "output_type": "stream",
          "name": "stdout",
          "text": [
            "[93010   784]\n",
            "<class 'numpy.float32'>\n",
            "[93010    26]\n",
            "<class 'numpy.float32'>\n"
          ]
        }
      ]
    },
    {
      "cell_type": "code",
      "source": [
        "test_image_tflite=np.array(x_test,dtype=np.float32)"
      ],
      "metadata": {
        "id": "OM3_g46yHIUO"
      },
      "execution_count": 24,
      "outputs": []
    },
    {
      "cell_type": "code",
      "source": [
        "interpreter.set_tensor(input_details[0]['index'],test_image_tflite)\n",
        "interpreter.invoke()\n",
        "tflite_prediction=interpreter.get_tensor(output_details[0]['index'])\n",
        "prediction_class=np.argmax(tflite_prediction,axis=1)"
      ],
      "metadata": {
        "id": "wMUmshmVHaXX"
      },
      "execution_count": 25,
      "outputs": []
    },
    {
      "cell_type": "code",
      "source": [
        "actual_class=np.argmax(y_test,axis=1)\n",
        "acc=accuracy_score(prediction_class,actual_class)\n",
        "print(acc)"
      ],
      "metadata": {
        "colab": {
          "base_uri": "https://localhost:8080/"
        },
        "id": "1F8arInXIXWP",
        "outputId": "be3fb3d7-195e-4bc0-fecd-f914e8beff03"
      },
      "execution_count": 26,
      "outputs": [
        {
          "output_type": "stream",
          "name": "stdout",
          "text": [
            "0.963950112891087\n"
          ]
        }
      ]
    },
    {
      "cell_type": "code",
      "source": [
        "!apt-get -qq install xxd"
      ],
      "metadata": {
        "id": "zh1l4mpkbc31"
      },
      "execution_count": 27,
      "outputs": []
    },
    {
      "cell_type": "code",
      "source": [
        "!xxd -i /content/tf_lite_model_AZ_handwriting.tflite > tf_lite_model_AZ_handwriting.cc"
      ],
      "metadata": {
        "id": "CaRr37CCbroD"
      },
      "execution_count": 32,
      "outputs": []
    }
  ]
}