{
  "nbformat": 4,
  "nbformat_minor": 0,
  "metadata": {
    "colab": {
      "provenance": [],
      "authorship_tag": "ABX9TyPUoh24x1/2+j4ang44sOdl",
      "include_colab_link": true
    },
    "kernelspec": {
      "name": "python3",
      "display_name": "Python 3"
    },
    "language_info": {
      "name": "python"
    }
  },
  "cells": [
    {
      "cell_type": "markdown",
      "metadata": {
        "id": "view-in-github",
        "colab_type": "text"
      },
      "source": [
        "<a href=\"https://colab.research.google.com/github/laibw/Handwriting-recognition/blob/main/Modeltraining.ipynb\" target=\"_parent\"><img src=\"https://colab.research.google.com/assets/colab-badge.svg\" alt=\"Open In Colab\"/></a>"
      ]
    },
    {
      "cell_type": "code",
      "execution_count": 1,
      "metadata": {
        "id": "x3uceaUxpiZ7"
      },
      "outputs": [],
      "source": [
        "import numpy as np\n",
        "import pandas as pd\n",
        "import tensorflow as tf\n",
        "from sklearn.model_selection import train_test_split\n",
        "from sklearn.metrics import accuracy_score\n",
        "import os\n",
        "from tensorflow import keras\n",
        "from tensorflow.keras.layers import Dense\n",
        "from tensorflow.keras.losses import CategoricalCrossentropy\n",
        "from sys import getsizeof\n",
        "from google.colab import files\n",
        "from google.colab import drive\n"
      ]
    },
    {
      "cell_type": "code",
      "source": [
        "output_labels = ['A','B','C','D','E','F','G','H','I','J','K','L','M','N','O','P','Q','R','S','T','U','V','W','X','Y','Z']"
      ],
      "metadata": {
        "id": "PXaXQOsx205C"
      },
      "execution_count": 2,
      "outputs": []
    },
    {
      "cell_type": "code",
      "source": [
        "def get_file_size(file_path):\n",
        "  return os.path.getsize(file_path)"
      ],
      "metadata": {
        "id": "z6uLbc3vq2BO"
      },
      "execution_count": 3,
      "outputs": []
    },
    {
      "cell_type": "code",
      "source": [
        "drive.mount('/content/drive')"
      ],
      "metadata": {
        "id": "OaDD2U08xT6S",
        "colab": {
          "base_uri": "https://localhost:8080/",
          "height": 297
        },
        "outputId": "173344e1-307a-4f3c-fdd6-8538abd6cdfa",
        "collapsed": true
      },
      "execution_count": 4,
      "outputs": [
        {
          "output_type": "error",
          "ename": "MessageError",
          "evalue": "Error: credential propagation was unsuccessful",
          "traceback": [
            "\u001b[0;31m---------------------------------------------------------------------------\u001b[0m",
            "\u001b[0;31mMessageError\u001b[0m                              Traceback (most recent call last)",
            "\u001b[0;32m<ipython-input-4-3b8a479202a4>\u001b[0m in \u001b[0;36m<cell line: 1>\u001b[0;34m()\u001b[0m\n\u001b[0;32m----> 1\u001b[0;31m \u001b[0mdrive\u001b[0m\u001b[0;34m.\u001b[0m\u001b[0mmount\u001b[0m\u001b[0;34m(\u001b[0m\u001b[0;34m'/content/drive'\u001b[0m\u001b[0;34m)\u001b[0m\u001b[0;34m\u001b[0m\u001b[0;34m\u001b[0m\u001b[0m\n\u001b[0m",
            "\u001b[0;32m/usr/local/lib/python3.10/dist-packages/google/colab/drive.py\u001b[0m in \u001b[0;36mmount\u001b[0;34m(mountpoint, force_remount, timeout_ms, readonly)\u001b[0m\n\u001b[1;32m     98\u001b[0m \u001b[0;32mdef\u001b[0m \u001b[0mmount\u001b[0m\u001b[0;34m(\u001b[0m\u001b[0mmountpoint\u001b[0m\u001b[0;34m,\u001b[0m \u001b[0mforce_remount\u001b[0m\u001b[0;34m=\u001b[0m\u001b[0;32mFalse\u001b[0m\u001b[0;34m,\u001b[0m \u001b[0mtimeout_ms\u001b[0m\u001b[0;34m=\u001b[0m\u001b[0;36m120000\u001b[0m\u001b[0;34m,\u001b[0m \u001b[0mreadonly\u001b[0m\u001b[0;34m=\u001b[0m\u001b[0;32mFalse\u001b[0m\u001b[0;34m)\u001b[0m\u001b[0;34m:\u001b[0m\u001b[0;34m\u001b[0m\u001b[0;34m\u001b[0m\u001b[0m\n\u001b[1;32m     99\u001b[0m   \u001b[0;34m\"\"\"Mount your Google Drive at the specified mountpoint path.\"\"\"\u001b[0m\u001b[0;34m\u001b[0m\u001b[0;34m\u001b[0m\u001b[0m\n\u001b[0;32m--> 100\u001b[0;31m   return _mount(\n\u001b[0m\u001b[1;32m    101\u001b[0m       \u001b[0mmountpoint\u001b[0m\u001b[0;34m,\u001b[0m\u001b[0;34m\u001b[0m\u001b[0;34m\u001b[0m\u001b[0m\n\u001b[1;32m    102\u001b[0m       \u001b[0mforce_remount\u001b[0m\u001b[0;34m=\u001b[0m\u001b[0mforce_remount\u001b[0m\u001b[0;34m,\u001b[0m\u001b[0;34m\u001b[0m\u001b[0;34m\u001b[0m\u001b[0m\n",
            "\u001b[0;32m/usr/local/lib/python3.10/dist-packages/google/colab/drive.py\u001b[0m in \u001b[0;36m_mount\u001b[0;34m(mountpoint, force_remount, timeout_ms, ephemeral, readonly)\u001b[0m\n\u001b[1;32m    131\u001b[0m   )\n\u001b[1;32m    132\u001b[0m   \u001b[0;32mif\u001b[0m \u001b[0mephemeral\u001b[0m\u001b[0;34m:\u001b[0m\u001b[0;34m\u001b[0m\u001b[0;34m\u001b[0m\u001b[0m\n\u001b[0;32m--> 133\u001b[0;31m     _message.blocking_request(\n\u001b[0m\u001b[1;32m    134\u001b[0m         \u001b[0;34m'request_auth'\u001b[0m\u001b[0;34m,\u001b[0m\u001b[0;34m\u001b[0m\u001b[0;34m\u001b[0m\u001b[0m\n\u001b[1;32m    135\u001b[0m         \u001b[0mrequest\u001b[0m\u001b[0;34m=\u001b[0m\u001b[0;34m{\u001b[0m\u001b[0;34m'authType'\u001b[0m\u001b[0;34m:\u001b[0m \u001b[0;34m'dfs_ephemeral'\u001b[0m\u001b[0;34m}\u001b[0m\u001b[0;34m,\u001b[0m\u001b[0;34m\u001b[0m\u001b[0;34m\u001b[0m\u001b[0m\n",
            "\u001b[0;32m/usr/local/lib/python3.10/dist-packages/google/colab/_message.py\u001b[0m in \u001b[0;36mblocking_request\u001b[0;34m(request_type, request, timeout_sec, parent)\u001b[0m\n\u001b[1;32m    174\u001b[0m       \u001b[0mrequest_type\u001b[0m\u001b[0;34m,\u001b[0m \u001b[0mrequest\u001b[0m\u001b[0;34m,\u001b[0m \u001b[0mparent\u001b[0m\u001b[0;34m=\u001b[0m\u001b[0mparent\u001b[0m\u001b[0;34m,\u001b[0m \u001b[0mexpect_reply\u001b[0m\u001b[0;34m=\u001b[0m\u001b[0;32mTrue\u001b[0m\u001b[0;34m\u001b[0m\u001b[0;34m\u001b[0m\u001b[0m\n\u001b[1;32m    175\u001b[0m   )\n\u001b[0;32m--> 176\u001b[0;31m   \u001b[0;32mreturn\u001b[0m \u001b[0mread_reply_from_input\u001b[0m\u001b[0;34m(\u001b[0m\u001b[0mrequest_id\u001b[0m\u001b[0;34m,\u001b[0m \u001b[0mtimeout_sec\u001b[0m\u001b[0;34m)\u001b[0m\u001b[0;34m\u001b[0m\u001b[0;34m\u001b[0m\u001b[0m\n\u001b[0m",
            "\u001b[0;32m/usr/local/lib/python3.10/dist-packages/google/colab/_message.py\u001b[0m in \u001b[0;36mread_reply_from_input\u001b[0;34m(message_id, timeout_sec)\u001b[0m\n\u001b[1;32m    101\u001b[0m     ):\n\u001b[1;32m    102\u001b[0m       \u001b[0;32mif\u001b[0m \u001b[0;34m'error'\u001b[0m \u001b[0;32min\u001b[0m \u001b[0mreply\u001b[0m\u001b[0;34m:\u001b[0m\u001b[0;34m\u001b[0m\u001b[0;34m\u001b[0m\u001b[0m\n\u001b[0;32m--> 103\u001b[0;31m         \u001b[0;32mraise\u001b[0m \u001b[0mMessageError\u001b[0m\u001b[0;34m(\u001b[0m\u001b[0mreply\u001b[0m\u001b[0;34m[\u001b[0m\u001b[0;34m'error'\u001b[0m\u001b[0;34m]\u001b[0m\u001b[0;34m)\u001b[0m\u001b[0;34m\u001b[0m\u001b[0;34m\u001b[0m\u001b[0m\n\u001b[0m\u001b[1;32m    104\u001b[0m       \u001b[0;32mreturn\u001b[0m \u001b[0mreply\u001b[0m\u001b[0;34m.\u001b[0m\u001b[0mget\u001b[0m\u001b[0;34m(\u001b[0m\u001b[0;34m'data'\u001b[0m\u001b[0;34m,\u001b[0m \u001b[0;32mNone\u001b[0m\u001b[0;34m)\u001b[0m\u001b[0;34m\u001b[0m\u001b[0;34m\u001b[0m\u001b[0m\n\u001b[1;32m    105\u001b[0m \u001b[0;34m\u001b[0m\u001b[0m\n",
            "\u001b[0;31mMessageError\u001b[0m: Error: credential propagation was unsuccessful"
          ]
        }
      ]
    },
    {
      "cell_type": "code",
      "source": [
        "data_path = '/content/drive/MyDrive/handwritten_data_785.csv'\n",
        "df = pd.read_csv(data_path)\n",
        "df.shape"
      ],
      "metadata": {
        "colab": {
          "base_uri": "https://localhost:8080/"
        },
        "id": "7Busnwa7g38X",
        "outputId": "97b3e82a-9c23-41c4-a00e-9a773c38c73f"
      },
      "execution_count": null,
      "outputs": [
        {
          "output_type": "execute_result",
          "data": {
            "text/plain": [
              "(372037, 785)"
            ]
          },
          "metadata": {},
          "execution_count": 5
        }
      ]
    },
    {
      "cell_type": "code",
      "source": [
        "features = df.values[:,1:]\n",
        "labels = df.values[:,0]"
      ],
      "metadata": {
        "id": "iHt42ZZikY3r"
      },
      "execution_count": null,
      "outputs": []
    },
    {
      "cell_type": "code",
      "source": [
        "#features = features.reshape(len(features), 28, 28)\n",
        "features = features / 255.\n",
        "features=np.ceil(features)\n",
        "labels=keras.utils.to_categorical(labels)"
      ],
      "metadata": {
        "id": "ahbhaB_lks7N"
      },
      "execution_count": null,
      "outputs": []
    },
    {
      "cell_type": "code",
      "source": [
        "x_train, x_test, y_train, y_test = train_test_split(features, labels, test_size=0.25, random_state=42)"
      ],
      "metadata": {
        "id": "LWPX2p4pkywC"
      },
      "execution_count": null,
      "outputs": []
    },
    {
      "cell_type": "code",
      "source": [
        "print(x_train.shape)\n",
        "print(x_test.shape)\n",
        "print(y_train.shape)\n",
        "print(y_test.shape)"
      ],
      "metadata": {
        "colab": {
          "base_uri": "https://localhost:8080/"
        },
        "id": "cQ7486gqtESC",
        "outputId": "613139f2-9980-46ef-82df-f8f9cff525fc"
      },
      "execution_count": null,
      "outputs": [
        {
          "output_type": "stream",
          "name": "stdout",
          "text": [
            "(279027, 784)\n",
            "(93010, 784)\n",
            "(279027, 26)\n",
            "(93010, 26)\n"
          ]
        }
      ]
    },
    {
      "cell_type": "code",
      "source": [
        "model=keras.Sequential([\n",
        "    Dense(128,activation='relu',input_shape=(784,)),\n",
        "    Dense(26)\n",
        "])"
      ],
      "metadata": {
        "id": "ZYFBgaZXwQmW"
      },
      "execution_count": null,
      "outputs": []
    },
    {
      "cell_type": "code",
      "source": [
        "model.summary()"
      ],
      "metadata": {
        "colab": {
          "base_uri": "https://localhost:8080/"
        },
        "id": "aT7gaMK9xBeK",
        "outputId": "0dd5367d-4185-44a2-eb28-f74791aa5764"
      },
      "execution_count": null,
      "outputs": [
        {
          "output_type": "stream",
          "name": "stdout",
          "text": [
            "Model: \"sequential\"\n",
            "_________________________________________________________________\n",
            " Layer (type)                Output Shape              Param #   \n",
            "=================================================================\n",
            " dense (Dense)               (None, 128)               100480    \n",
            "                                                                 \n",
            " dense_1 (Dense)             (None, 26)                3354      \n",
            "                                                                 \n",
            "=================================================================\n",
            "Total params: 103834 (405.60 KB)\n",
            "Trainable params: 103834 (405.60 KB)\n",
            "Non-trainable params: 0 (0.00 Byte)\n",
            "_________________________________________________________________\n"
          ]
        }
      ]
    },
    {
      "cell_type": "code",
      "source": [
        "model.compile(optimizer='adam',\n",
        "              loss=CategoricalCrossentropy(from_logits=True),\n",
        "              metrics=['accuracy'])"
      ],
      "metadata": {
        "id": "Ztlk9FKlxQR_"
      },
      "execution_count": null,
      "outputs": []
    },
    {
      "cell_type": "code",
      "source": [
        "del df\n",
        "del features\n",
        "del labels"
      ],
      "metadata": {
        "id": "vPTi4PAx8XSJ"
      },
      "execution_count": null,
      "outputs": []
    },
    {
      "cell_type": "code",
      "source": [
        "model.fit(x_train,y_train,epochs=10)"
      ],
      "metadata": {
        "colab": {
          "base_uri": "https://localhost:8080/"
        },
        "id": "hQxbpanIxvXv",
        "outputId": "ad6b6536-1250-4a90-b500-d811b9c40d2d"
      },
      "execution_count": null,
      "outputs": [
        {
          "output_type": "stream",
          "name": "stdout",
          "text": [
            "Epoch 1/10\n",
            "8720/8720 [==============================] - 39s 4ms/step - loss: 0.3367 - accuracy: 0.9062\n",
            "Epoch 2/10\n",
            "8720/8720 [==============================] - 39s 5ms/step - loss: 0.1838 - accuracy: 0.9482\n",
            "Epoch 3/10\n",
            "8720/8720 [==============================] - 40s 5ms/step - loss: 0.1527 - accuracy: 0.9572\n",
            "Epoch 4/10\n",
            "8720/8720 [==============================] - 39s 4ms/step - loss: 0.1350 - accuracy: 0.9616\n",
            "Epoch 5/10\n",
            "8720/8720 [==============================] - 39s 4ms/step - loss: 0.1217 - accuracy: 0.9651\n",
            "Epoch 6/10\n",
            "8720/8720 [==============================] - 40s 5ms/step - loss: 0.1108 - accuracy: 0.9678\n",
            "Epoch 7/10\n",
            "8720/8720 [==============================] - 40s 5ms/step - loss: 0.1028 - accuracy: 0.9699\n",
            "Epoch 8/10\n",
            "8720/8720 [==============================] - 40s 5ms/step - loss: 0.0962 - accuracy: 0.9723\n",
            "Epoch 9/10\n",
            "8720/8720 [==============================] - 42s 5ms/step - loss: 0.0898 - accuracy: 0.9734\n",
            "Epoch 10/10\n",
            "8720/8720 [==============================] - 37s 4ms/step - loss: 0.0853 - accuracy: 0.9747\n"
          ]
        },
        {
          "output_type": "execute_result",
          "data": {
            "text/plain": [
              "<keras.src.callbacks.History at 0x78ce397c56c0>"
            ]
          },
          "metadata": {},
          "execution_count": 14
        }
      ]
    },
    {
      "cell_type": "code",
      "source": [
        "test_loss,test_accuracy = model.evaluate(x_test,y_test, verbose=2)\n",
        "print(\"Accuracy:\",format(round(100*test_accuracy,2)))"
      ],
      "metadata": {
        "colab": {
          "base_uri": "https://localhost:8080/"
        },
        "id": "Ypcfyqmcivne",
        "outputId": "ed802d37-f190-4d4e-c6c5-2dd9df782e0a"
      },
      "execution_count": null,
      "outputs": [
        {
          "output_type": "stream",
          "name": "stdout",
          "text": [
            "2907/2907 - 5s - loss: 0.1461 - accuracy: 0.9625 - 5s/epoch - 2ms/step\n",
            "Accuracy: 96.25\n"
          ]
        }
      ]
    },
    {
      "cell_type": "code",
      "source": [
        "model_name='tf_model_AZ_handwriting.keras'\n",
        "model.save(model_name)"
      ],
      "metadata": {
        "id": "CVo5Xfr2j1Y6"
      },
      "execution_count": null,
      "outputs": []
    },
    {
      "cell_type": "code",
      "source": [
        "print(get_file_size(model_name))"
      ],
      "metadata": {
        "colab": {
          "base_uri": "https://localhost:8080/"
        },
        "id": "97mnB7rTrvtG",
        "outputId": "d75e693b-04b2-45bd-aa5b-3ffe4dec1f61"
      },
      "execution_count": null,
      "outputs": [
        {
          "output_type": "stream",
          "name": "stdout",
          "text": [
            "1267810\n"
          ]
        }
      ]
    },
    {
      "cell_type": "code",
      "source": [
        "test_image=x_test[0:10]\n",
        "test_label=y_test[0:10]\n",
        "classes_y=np.argmax(test_label,axis=1)\n",
        "predictions=model.predict(test_image)\n",
        "classes_x=np.argmax(predictions,axis=1)\n",
        "print('Actual classes: ',end=\"\")\n",
        "for q in classes_y:\n",
        "  print(output_labels[q],end=\" \")\n",
        "print('\\nPredicted classes: ',end=\"\")\n",
        "for p in classes_x:\n",
        "    print(output_labels[p],end=\" \")"
      ],
      "metadata": {
        "colab": {
          "base_uri": "https://localhost:8080/"
        },
        "id": "NtMMi14axIfx",
        "outputId": "25b5a6a2-7b3a-495c-cce9-ab494dd16978"
      },
      "execution_count": null,
      "outputs": [
        {
          "output_type": "stream",
          "name": "stdout",
          "text": [
            "1/1 [==============================] - 0s 93ms/step\n",
            "Actual classes: J R O N Z T P O U S \n",
            "Predicted classes: J R O N Z T P O U S "
          ]
        }
      ]
    },
    {
      "cell_type": "code",
      "source": [
        "tflite_model_name=\"tf_lite_model_AZ_handwriting.tflite\"\n",
        "tf_lite_converter=tf.lite.TFLiteConverter.from_keras_model(model)\n",
        "tf_lite_converter.optimizations = [tf.lite.Optimize.DEFAULT]\n",
        "def representative_dataset_generator():\n",
        "  for value in x_test:\n",
        "  # Each scalar value must be inside of a 2D array that is wrapped in a list\n",
        "    yield [np.array(value, dtype=np.float32, ndmin=2)]\n",
        "tf_lite_converter.representative_dataset = representative_dataset_generator\n",
        "tflite_model=tf_lite_converter.convert()"
      ],
      "metadata": {
        "id": "JF_gEHKCAlsl",
        "colab": {
          "base_uri": "https://localhost:8080/"
        },
        "outputId": "9028753a-b9c8-49ef-c538-0b93b90b6d44"
      },
      "execution_count": null,
      "outputs": [
        {
          "output_type": "stream",
          "name": "stderr",
          "text": [
            "/usr/local/lib/python3.10/dist-packages/tensorflow/lite/python/convert.py:953: UserWarning: Statistics for quantized inputs were expected, but not specified; continuing anyway.\n",
            "  warnings.warn(\n"
          ]
        }
      ]
    },
    {
      "cell_type": "code",
      "source": [
        "open(tflite_model_name,\"wb\").write(tflite_model)"
      ],
      "metadata": {
        "colab": {
          "base_uri": "https://localhost:8080/"
        },
        "id": "8NuxQ3DYBNMU",
        "outputId": "14cccd6b-9e67-497d-8586-423277e98c95"
      },
      "execution_count": null,
      "outputs": [
        {
          "output_type": "execute_result",
          "data": {
            "text/plain": [
              "106384"
            ]
          },
          "metadata": {},
          "execution_count": 37
        }
      ]
    },
    {
      "cell_type": "code",
      "source": [
        "interpreter=tf.lite.Interpreter(model_path=tflite_model_name)"
      ],
      "metadata": {
        "id": "ffeNQlfbDSfK"
      },
      "execution_count": null,
      "outputs": []
    },
    {
      "cell_type": "code",
      "source": [
        "input_details=interpreter.get_input_details()\n",
        "output_details=interpreter.get_output_details()\n",
        "print(input_details[0]['shape'])\n",
        "print(input_details[0]['dtype'])\n",
        "print(output_details[0]['shape'])\n",
        "print(output_details[0]['dtype'])"
      ],
      "metadata": {
        "colab": {
          "base_uri": "https://localhost:8080/"
        },
        "id": "iD7AaVYyFB8J",
        "outputId": "efbcc1e7-b7ed-4a4e-9eab-89b3d004fa26"
      },
      "execution_count": null,
      "outputs": [
        {
          "output_type": "stream",
          "name": "stdout",
          "text": [
            "[  1 784]\n",
            "<class 'numpy.float32'>\n",
            "[ 1 26]\n",
            "<class 'numpy.float32'>\n"
          ]
        }
      ]
    },
    {
      "cell_type": "code",
      "source": [
        "interpreter.resize_tensor_input(input_details[0]['index'],(93010,784))\n",
        "interpreter.resize_tensor_input(output_details[0]['index'],(93010,26))\n",
        "interpreter.allocate_tensors()\n",
        "input_details=interpreter.get_input_details()\n",
        "output_details=interpreter.get_output_details()\n",
        "print(input_details[0]['shape'])\n",
        "print(input_details[0]['dtype'])\n",
        "print(output_details[0]['shape'])\n",
        "print(output_details[0]['dtype'])"
      ],
      "metadata": {
        "colab": {
          "base_uri": "https://localhost:8080/"
        },
        "id": "XTrpVuCVF5va",
        "outputId": "a3818860-d06d-4d75-fc3a-5daa333495c5"
      },
      "execution_count": null,
      "outputs": [
        {
          "output_type": "stream",
          "name": "stdout",
          "text": [
            "[93010   784]\n",
            "<class 'numpy.float32'>\n",
            "[93010    26]\n",
            "<class 'numpy.float32'>\n"
          ]
        }
      ]
    },
    {
      "cell_type": "code",
      "source": [
        "test_image_tflite=np.array(x_test,dtype=np.float32)"
      ],
      "metadata": {
        "id": "OM3_g46yHIUO"
      },
      "execution_count": null,
      "outputs": []
    },
    {
      "cell_type": "code",
      "source": [
        "interpreter.set_tensor(input_details[0]['index'],test_image_tflite)\n",
        "interpreter.invoke()\n",
        "tflite_prediction=interpreter.get_tensor(output_details[0]['index'])\n",
        "prediction_class=np.argmax(tflite_prediction,axis=1)"
      ],
      "metadata": {
        "id": "wMUmshmVHaXX"
      },
      "execution_count": null,
      "outputs": []
    },
    {
      "cell_type": "code",
      "source": [
        "actual_class=np.argmax(y_test,axis=1)\n",
        "acc=accuracy_score(prediction_class,actual_class)\n",
        "print(acc)"
      ],
      "metadata": {
        "colab": {
          "base_uri": "https://localhost:8080/"
        },
        "id": "1F8arInXIXWP",
        "outputId": "07be2bac-4503-49b6-9888-e33adc2ca498"
      },
      "execution_count": null,
      "outputs": [
        {
          "output_type": "stream",
          "name": "stdout",
          "text": [
            "0.9610687022900763\n"
          ]
        }
      ]
    }
  ]
}